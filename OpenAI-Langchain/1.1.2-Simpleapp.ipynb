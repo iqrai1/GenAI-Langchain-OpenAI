{
 "cells": [
  {
   "cell_type": "markdown",
   "metadata": {},
   "source": [
    "#### Simple Gen AI APP Using Langchain"
   ]
  },
  {
   "cell_type": "code",
   "execution_count": 1,
   "metadata": {},
   "outputs": [],
   "source": [
    "import os \n",
    "from dotenv import load_dotenv \n",
    "load_dotenv()\n",
    "\n",
    "os.environ['OPENAI_API_KEY']=os.getenv(\"OPENAI_API_KEY\")\n",
    "##Langsmith tracing\n",
    "os.environ['LANGCHAIN_API_KEY']= os.getenv(\"LANGCHAIN_API_KEY\")\n",
    "os.environ['LANGCHAIN_TRACING_V2']=\"true\"\n",
    "os.environ['LANGCHAIN_PROJECT']=os.getenv(\"LANGCHAIN_Project\")"
   ]
  },
  {
   "cell_type": "code",
   "execution_count": 2,
   "metadata": {},
   "outputs": [
    {
     "name": "stderr",
     "output_type": "stream",
     "text": [
      "USER_AGENT environment variable not set, consider setting it to identify your requests.\n"
     ]
    }
   ],
   "source": [
    "## Data Ingestion--From the website we need to scrape the data\n",
    "from langchain_community.document_loaders import WebBaseLoader"
   ]
  },
  {
   "cell_type": "code",
   "execution_count": 3,
   "metadata": {},
   "outputs": [
    {
     "data": {
      "text/plain": [
       "<langchain_community.document_loaders.web_base.WebBaseLoader at 0x26e4a5f0110>"
      ]
     },
     "execution_count": 3,
     "metadata": {},
     "output_type": "execute_result"
    }
   ],
   "source": [
    "loader=WebBaseLoader(\"https://www.atomcamp.com/ai-for-o-a-level/\")\n",
    "loader"
   ]
  },
  {
   "cell_type": "code",
   "execution_count": 5,
   "metadata": {},
   "outputs": [
    {
     "data": {
      "text/plain": [
       "[Document(metadata={'source': 'https://www.atomcamp.com/ai-for-o-a-level/', 'title': 'AI for O/A Level | atomcamp', 'language': 'en-US'}, page_content='\\n\\n\\n\\n\\n\\n\\n\\n\\n\\n\\n\\n\\nAI for O/A Level | atomcamp\\n\\n\\n\\n\\n\\n\\n\\n\\n\\n\\n\\n\\n\\n\\n\\n\\n\\n\\n\\n\\n\\n\\n\\n\\n\\n\\n\\n\\n\\n\\n\\n\\n\\n\\n\\n\\n\\n\\n\\n\\n\\n\\n\\n\\n\\n\\n\\n\\n\\n\\n\\n\\n\\n\\n\\n\\n\\n\\n\\n\\n\\n\\n\\n\\n\\n\\n\\n\\n\\n\\n\\n\\n\\n\\n\\n\\n\\n\\n\\n\\n\\n\\n\\n\\n\\n\\n\\n\\n\\n\\n\\n\\n\\n\\n\\n\\n\\n\\n\\n\\n\\n\\n\\n\\n\\n\\n\\n\\n\\n\\n\\n\\n\\n\\n\\n\\n\\n\\n\\n\\n\\n\\n\\n\\n\\n\\n\\n\\n\\n\\n\\t\\tSkip to content\\n\\n\\natomcamp\\n\\n\\n\\n\\n\\n\\n\\n\\n \\n\\n\\n\\n\\n\\n\\n\\n\\n\\n\\nMenu\\n\\n \\n\\n\\nAbout Us\\nCourses\\nEvents\\nBlogs\\nSustainability Lab\\nCareers\\n\\n\\n\\n\\n\\n\\n\\n\\n\\n\\n\\n\\n\\n\\n\\n\\n\\n\\n\\n\\n\\n \\n\\n\\n\\n\\n\\n\\n\\n\\n\\n\\n\\n\\n\\n \\n\\n\\n\\n\\n\\n\\n\\n \\n\\n\\n\\n\\n\\n\\n\\n \\n\\n\\n\\n\\n\\n\\n\\n\\n\\n\\n\\nArtificial Intelligence Bootcamp for O/A Level \\n\\n\\n\\n\\n\\n\\n \\nIn-person, NUST H-12 Campus, Islamabad. \\n\\n\\n\\n \\n20th June\\n\\n\\n\\n \\n2 Months\\n\\n\\n\\n\\n\\n\\n\\n\\n\\n \\nFriday to Sunday 4:00 PM to 7:00 PM\\n\\n\\n\\n\\n\\n\\n\\n\\n\\n\\n\\n\\n\\nApply Now\\n\\n\\n\\n\\n\\n\\n\\n\\n\\n\\n\\n\\n\\n\\npricing plan\\n\\n\\n\\n\\n\\n\\n\\n\\n\\n\\n\\n\\n\\n\\n\\n\\n\\n\\n\\n\\n\\n\\n \\nEligibility criteria\\n\\n\\n\\n\\n\\n\\n\\n\\n\\n \\n14-18 Years of Age (Male/Female)\\n\\n\\n\\n \\nStudents currently enrolled or have recently done O/A Levels or Metric/FSc\\n\\n\\n\\n \\nBasic computer literacy (no coding/AI experience required)\\n\\n\\n\\n\\n\\n\\n\\n\\n\\n\\n\\n\\n\\n\\n\\n\\n\\n\\natomcamp & NUST have jointly launched AI bootcamp for Islamabad’s youth to train them in the most in-demand AI skills.This bootcamp will facilitate students in launching their international freelancing careers, getting admissions abroad, and developing a sound technological foundation for any career.\\xa0Additionally, we will arrange extra curricular activities on-campus, sessions on soft skills, career-coaching, and industry visits. \\n\\n\\n\\n\\n\\n\\n\\nWhy should you enroll in this bootcamp? \\n\\n\\n\\n\\n\\n\\n\\nThe Data Science & AI engineering market, currently at $8 billion, is set to grow at 35% annually from 2025 to 2032. Key trends for 2025 include generative AI, sustainable AI, and augmented working, with significant growth expected in cloud-based AI applications, according to Gartner.Given these metrics, we believe that it’s high time to train Pakistani youth in these technical skills \\n\\n\\n\\n\\n\\n\\n\\n\\n\\n\\n\\n\\n\\n\\n\\n\\n\\n \\n\\n\\n\\n\\n\\n\\n\\n\\n\\n\\n\\n\\t\\t\\t\\t\\t\\t\\t\\t\\tStandard Monthly\\t\\t\\t\\t\\t\\t\\t\\t\\n\\n\\n\\t\\t\\t\\t\\t\\t\\t\\tPKR 50,000\\t\\t\\t\\t\\t\\t\\t\\n\\n\\nMonthly PaymentFor 2 Months \\n\\n\\n\\n\\n\\n\\n\\n\\n\\n\\n\\n\\n\\n\\n\\n\\n\\n \\n\\n\\n\\n\\n\\n\\n\\n\\n\\n\\n\\n\\t\\t\\t\\t\\t\\t\\t\\t\\tLumpsum\\t\\t\\t\\t\\t\\t\\t\\t\\n\\n\\n\\t\\t\\t\\t\\t\\t\\t\\tPKR 90,000\\t\\t\\t\\t\\t\\t\\t\\n\\n\\nAdvance PaymentFor 2 Months \\n\\n\\n\\n\\n\\n\\n\\n\\n\\n\\n\\n\\n\\n\\n\\n\\n\\n\\n\\n\\n\\n\\n\\n\\n\\n\\n\\nWhy choose this  bootcamp? \\n\\n\\n\\n\\n\\n\\n\\nGet yourself ready for future of work and here is how we help you do that: \\n\\n\\n\\n\\n\\n\\n\\n\\n\\n\\n \\nCareer counseling\\n\\n\\n\\n \\nGlobal freelancing career\\n\\n\\n\\n \\nFacilitation for university application \\n\\n\\n\\n\\n\\n\\n\\n\\n\\n\\n\\n\\n\\n \\nIndustry tours\\n\\n\\n\\n \\nTeamwork and networking\\n\\n\\n\\n \\nProfessional development \\n\\n\\n\\n\\n\\n\\n\\n\\n\\n\\n\\n\\n\\n\\n\\n\\n\\n\\n\\n\\t\\t\\t\\t0\\t\\t\\t\\n\\n\\t\\t\\t\\t\\t%\\t\\t\\t\\t\\n\\n\\n\\n\\t\\t\\t\\t\\t\\tAnnual Growth Rate \\t\\t\\t\\t\\t\\n\\n\\n\\n\\n\\n\\n\\n\\n\\n\\n\\n\\n\\n\\n\\n\\n\\n\\t\\t\\t\\t\\t$\\t\\t\\t\\t\\n\\n\\t\\t\\t\\t0\\t\\t\\t\\n\\n\\t\\t\\t\\t\\tBillion\\t\\t\\t\\t\\n\\n\\n\\n\\t\\t\\t\\t\\t\\tAI Engineering Market Size (2024)\\t\\t\\t\\t\\t\\n\\n\\n\\n\\n\\n\\n\\n\\n\\n\\n\\n\\n\\n\\n\\n\\n\\n\\n\\n\\n\\n\\n\\n\\n\\n\\n\\n\\n\\n\\n\\n\\n\\n\\n\\n\\n\\n\\n\\nWhat’s Inside \\n\\n\\n\\n\\n\\n\\n\\n\\n\\n\\n\\n\\n\\n\\n\\n\\n\\n \\n\\n\\n\\n\\n\\n\\n\\n\\n\\n\\n\\n\\t\\t\\t\\t\\t\\t\\t\\t\\tExtra-Curricular Activities\\t\\t\\t\\t\\t\\t\\t\\t\\n\\n\\n\\nExplore passions, build skills, and grow together.\\xa0 \\n\\n\\n\\n\\n\\n\\n\\n\\n\\n\\n\\n\\n\\n \\n\\n\\n\\n\\n\\n\\n\\n\\n\\n\\n\\n\\t\\t\\t\\t\\t\\t\\t\\t\\t1-on-1 Coaching & Mentorship\\t\\t\\t\\t\\t\\t\\t\\t\\n\\n\\n\\nReceive individualized mentorship to navigate your way through your AI career. \\n\\n\\n\\n\\n\\n\\n\\n\\n\\n\\n\\n\\n\\n \\n\\n\\n\\n\\n\\n\\n\\n\\n\\n\\n\\n\\t\\t\\t\\t\\t\\t\\t\\t\\tSpeaker Sessions\\t\\t\\t\\t\\t\\t\\t\\t\\n\\n\\n\\nRegular speaker series with industry professionals and hiring managers \\n\\n\\n\\n\\n\\n\\n\\n\\n\\n\\n\\n\\n\\n\\n\\n\\n\\n\\n\\n\\n\\n\\n\\n\\n\\n\\n\\n\\nYoung Innovators: Startup Discovery at\\n NSTP H12 \\n\\n\\n\\n\\n\\n\\n\\n\\n\\n\\n\\n\\n\\n\\n\\n\\n\\n\\n\\nYoung Innovators is a half-day visit where K–12 students from our bootcamps tour the NSTP startup at H12, engage with the team, and participate in a hands-on mini-workshop. \\n\\n\\n\\n\\n\\n\\n\\n\\n\\n\\n\\n\\n\\n\\n\\n\\n\\n\\n \\nStudents see real-world applications of low-code/no-code tools, data analytics, and AI in a startup environment.\\n\\n\\n\\n\\n\\n\\n\\n\\n\\n \\nThey connect classroom concepts to entrepreneurial problem-solving and product development.\\n\\n\\n\\n\\n\\n\\n\\n\\n\\n \\nDirect interaction with innovators inspires creativity, boosts motivation, and builds professional confidence.\\n\\n\\n\\n\\n\\n\\n\\n\\n\\n\\n\\n\\n\\n\\n\\n\\n\\n\\n\\n\\n\\n\\nObjective \\n\\n\\n\\n\\n\\n\\n\\n\\n\\n\\n\\n\\n\\n\\n\\nThis two-month summer bootcamp is the perfect opportunity for students to not only explore AI but also make the most out of their summer. In these 2 months, they’ll be gaining practical, hands-on skills that will set them apart from their peers.It’s an intensive but incredibly rewarding experience. Students will not only learn the most in-demand skills like Python programming, AI agent building, and prompt engineering, but they’ll also gain clarity on their future career paths. In just two months, they’ll be exposed to a range of tech fields, from building AI models to deploying products, and everything in between. This exposure will help them figure out what excites them the most, whether that’s building products, working with AI in a creative space, or becoming a leader in tech.The summer isn’t just about learning – it’s about exploring different career possibilities, getting inspired by industry trips, and interacting with peers who share similar interests. This is a transformative chance for students to not only develop technical skills but also get a clear sense of the direction they want their futures to take. They’ll finish the bootcamp not only with a stronger resume but with a roadmap of where they want to go next in their careers.It’s about making this summer count. Instead of just passing the time, students will walk away with tangible skills, clear insights into the future of AI, and a sense of purpose for what they want to achieve next. \\n\\n\\n\\n\\n\\n\\n\\nPrevious Bootcamp Highlights \\n\\n\\n\\n\\n \\n\\n\\n\\n\\n\\n\\n\\n\\n\\n\\n\\n\\n\\n\\n\\n\\n\\n\\n\\n\\nCourse Curriculum \\n\\n\\n\\n\\n\\n\\n\\n\\n\\n\\n\\n\\n\\n\\n\\n\\nWhat is AI? Welcome to GenAI & Agents\\n\\n\\n\\n \\n\\n\\n \\n\\n\\n\\n\\n\\nObjective: Introduce core AI concepts and how machines understand human language.Topics Covered:What is AI? Types of AI (with examples like Siri, ChatGPT)AI vs. GenAI vs. AI AgentsIntro to LLMs (in simple terms)Chatbot anatomy & workflowsHands-on: Play with ChatGPT (basic Q&A, fun facts, jokes) \\n\\n\\n\\n\\n\\nModule 2: Prompt Engineering & No-Code Agents\\n\\n\\n\\n \\n\\n\\n \\n\\n\\n\\n\\n\\nObjective: Teach students to “talk” to AI and build first bots without code.Topics Covered:Prompt anatomy: roles, context, instructionsChain-of-Thought promptingPersona prompts & formattingFlowise drag-and-drop flowsQuick-start on Poe or SuperagentProject Idea: “Daily Motivation” or “Quiz Master” bot in Flowise \\n\\n\\n\\n\\n\\nModule 3: Python Programming Fundamentals\\n\\n\\n\\n \\n\\n\\n \\n\\n\\n\\n\\n\\nObjective: Teach basic Python programming to enable AI implementation.Topics Covered:Python Basics: Variables, data types, operatorsInput/output (print, input functions)Control Structures: Conditionals (if-else) Loops (for, while)Functions & Lists: Defining and calling functions, Storing and manipulating data in listsSimple NLP: word count, keyword spottingProject Idea: Vibe Checker” script: counts positive/negative words in a sentence \\n\\n\\n\\n\\n\\nModule 4: Python + AI APIs—Build Your First Code-Based Agent\\n\\n\\n\\n \\n\\n\\n \\n\\n\\n\\n\\n\\nObjective: Combine Python logic with LLMs via API calls to build interactive agents. Topics Covered:Understanding APIsWhat are APIs?How APIs WorkWhy APIs are Useful for AIInstalling & importing OpenAI or Hugging Face client librariesSending prompts & receiving completionsDialogue loops & basic error handlingSecure API key management (environment variables)Project: “Fun Facts Bot” CLI: user asks a question → Python sends to LLM → prints a fun fact. \\n\\n\\n\\n\\n\\nModule 5: LangChain & Retrieval-Augmented Generation (RAG)\\n\\n\\n\\n \\n\\n\\n \\n\\n\\n\\n\\n\\nObjective: Explore how AI agents use memory and external knowledge with simplified LangChain and RAG concepts.Topics Covered:Concept of memory: short-term vs. long-termEmbeddings & vector stores (intuitive demos)RAG basics: retrieving docs, building contextConnecting documents to bots for Q&ABasic LLM pipelines (user → prompt → retrieval → response)\\xa0Project: Build a “Notes Q&A Bot” that answers questions from your uploaded notes or a short document. \\n\\n\\n\\n\\n\\nModule 6: Multi-Agent Workflows with CrewAI\\n\\n\\n\\n \\n\\n\\n \\n\\n\\n\\n\\n\\nObjective: Build teams of AI agents using roles for collaborative problem solving Topics Covered:Multi-agent systems & role definitions (Planner, Researcher, Writer)CrewAI setup & configurationTask coordination between agents\\xa0Ethics refresher: avoiding conflicting directivesProject: Build a “Project Team” of 3 agents: plan a school event or solve a challenge \\n\\n\\n\\n\\n\\nModule 7: No-Code AI Workflows with n8n\\n\\n\\n\\n \\n\\n\\n \\n\\n\\n\\n\\n\\nObjective: Teach students how to build multi-step, automated workflows using AI and external apps, without writing code.Topics Covered:What is workflow automation? Why use tools like n8n?\\xa0Introduction to n8n: nodes, triggers, actions, and data flow\\xa0Connecting n8n to ChatGPT using the OpenAI node\\xa0Creating simple logic flows: conditions, loops, and delays\\xa0Using triggers: Google Sheets, Webhooks, Time-based events\\xa0Sending and receiving data between nodes\\xa0Debugging workflows and managing failed executions\\xa0Example use cases: auto-email responders, daily reminders, form processorsProject: “AI Workflow Assistant” Students will build a multi-step workflow that uses AI to process input and trigger useful outputs A “Homework Help Bot” that takes a Google Form submission → sends it to ChatGPT → emails back a simplified explanation \\n\\n\\n\\n\\n\\nModule 8: Containerization & UI Packaging\\n\\n\\n\\n \\n\\n\\n \\n\\n\\n\\n\\n\\nObjective: Package your capstone agent into a portable container with a user interface.Topics Covered:What is containerization? Why use Docker?Writing a Dockerfile for a Python/Streamlit (or Gradio) appExposing ports & environment variablesBuilding & running your container locallyBasic UI design with Streamlit or Gradio componentsProject:Wrap your Phidata/CrewAI/LangChain agent in a Streamlit or Gradio UI.Write a Dockerfile, build a local container image, and run it to verify functionality. \\n\\n\\n\\n\\n\\nModule 9: GitHub for AI Projects\\n\\n\\n\\n \\n\\n\\n \\n\\n\\n\\n\\n\\nObjective: How to use GitHub for version control, project management, and deployment integration.Topics Covered:What is Git and GitHub? Why developers use themCreating and cloning repositoriesBasic Git commands: add, commit, push, pullUsing .gitignore and managing project filesWriting good README files and commit messagesConnecting GitHub to Vercel/Replit for deploymentUnderstanding open-source and collaboration basicProject Idea:Push your AI assistant project to GitHub with a clear README \\n\\n\\n\\n\\n\\nModule 10: Deployment on Vercel (or Replit Fallback)\\n\\n\\n\\n \\n\\n\\n \\n\\n\\n\\n\\n\\nObjective: Deploy your containerized agent online so anyone can access it.Topics Covered:Cloud vs. local apps: why cloud deployment mattersOverview of VercelSetting up a Vercel account and connecting GitHubDeploying your agent with serverless functions or static hostingEnvironment variables and deployment settings in VercelSharing live URLs and monitoring usage \\n\\n\\n\\n \\n\\n\\n\\n\\n\\n\\n\\n\\n\\n\\n\\n\\n\\n\\n\\nWhat you will learn \\n\\n\\n\\n\\n\\n\\n\\n\\n\\n\\n\\n\\n\\n\\n\\n\\n\\n\\n \\nExplain core AI concepts and how NLP and Generative AI technologies like LLMs work\\n\\n\\n\\n \\nDesign and evaluate effective prompts for interacting with AI models\\n\\n\\n\\n \\nBuild AI agents using both no-code tools (e.g., Flowise, n8n) and Python-based code\\n\\n\\n\\n \\nImplement memory-augmented workflows and coordinate multi-agent systems\\n\\n\\n\\n \\nPackage, containerize, and deploy AI agents with user interfaces to the cloud\\n\\n\\n\\n\\n\\n\\n\\n\\n\\n\\n\\n\\n\\n\\n\\n\\n\\n\\n\\n\\n\\n\\nTools You Will Master \\n\\n\\n\\n\\n\\n\\n\\n\\n\\n\\n\\n\\n\\n\\n\\n \\n\\n\\n\\n\\n\\n\\n\\n \\n\\n\\n\\n\\n\\n\\n\\n \\n\\n\\n\\n\\n\\n\\n\\n \\n\\n\\n\\n\\n\\n\\n\\n\\n\\n\\n\\n \\n\\n\\n\\n\\n\\n\\n\\n \\n\\n\\n\\n\\n\\n\\n\\n \\n\\n\\n\\n\\n\\n\\n\\n \\n\\n\\n\\n\\n\\n\\n\\n\\n\\n\\n\\n\\n\\n\\n\\n\\n\\n\\n\\nWords are cool,\\nbut have you met our incredible results? \\n\\n\\n\\n\\n\\n\\n\\n\\n\\n\\n\\n\\n\\n\\n\\n\\n\\n\\n\\n\\n\\n\\n\\t\\t\\t\\t\\t\\t\"Attending atomcamps Bootcamp in 2024 was a game-changer for me as an O/A Level student. I gained practical skills in Python, Machine Learning, Power BI, and Excel through fun, hands-on projects. The supportive environment and collaborative peers made learning enjoyable. This experience boosted my confidence and inspired me to pursue tech further. I highly recommend it to any student eager to grow their skills.\"\\t\\t\\t\\t\\t\\n\\n\\n\\n\\n\\nFurqan AdeelBootcamp Graduate \\n\\n\\n\\n\\n\\n\\n\\t\\t\\t\\t\\t\\t\"I joined Atomcamp’s O-/A-Level AI Bootcamp and had an amazing learning experience! We covered Excel, Power BI, Python, and even got a beginner’s look at machine learning. The hands-on projects and supportive teachers made it fun and motivating. I gained practical skills and confidence working with data and AI. I highly recommend this bootcamp to anyone wanting a great introduction to AI and tech.\"\\t\\t\\t\\t\\t\\n\\n\\n\\n\\n\\nRohan RizwanBootcamp Graduate \\n\\n\\n\\n\\n\\n\\n\\n\\n\\n\\n\\n\\n\\n\\n\\n\\n\\n\\nWe are excited to announce that our bootcamp will take place at NUST, H-12 Campus, Islamabad. \\n\\n\\n\\n\\n\\n\\n\\n\\n\\n\\n\\n\\n\\n\\n\\n\\n\\n\\n\\n\\n\\n\\n\\nWe train Professionals from top organizations across Industries. \\n\\n\\n\\n\\n\\n\\n\\n\\n\\n\\n\\n\\n\\n\\n\\n\\n\\n\\n\\n\\n\\n\\n\\n \\n\\n\\n\\n\\n\\n\\n\\n \\n\\n\\n\\n\\n\\n\\n\\n \\n\\n\\n\\n\\n\\n\\n\\n \\n\\n\\n\\n\\n\\n\\n\\n \\n\\n\\n\\n\\n\\n\\n\\n \\n\\n\\n\\n\\n\\n\\n\\n \\n\\n\\n\\n\\n\\n\\n\\n \\n\\n\\n\\n\\n\\n\\n\\n\\n\\n\\n\\n\\n\\n\\n\\n\\n\\n\\n\\n\\n\\n\\n \\nGet a verified certificate to prove your skills.\\n\\n\\n\\n\\n\\n\\nEarn a Verified Certificate of Completion \\n\\n\\n\\nEarn a data analytics certificate, verifying your skills. Step into the market with a proven and trusted skillset. \\n\\n\\n\\n\\n\\n\\n\\n\\n\\n\\n\\n \\n\\n\\n\\n\\n\\n\\n\\n\\n\\n\\n\\n\\n\\n\\n\\n\\n\\n\\n\\nPricing Plan \\n\\n\\n\\nPick a plan that fits your needs and budget. \\n\\n\\n\\n\\n\\n\\n\\n\\n\\n\\n\\n\\n\\n\\n\\n\\n\\n\\n\\n\\n\\n \\n\\n\\n\\n\\n\\n\\n\\n\\n\\n\\n\\n\\t\\t\\t\\t\\t\\t\\t\\t\\tStandard Monthly\\t\\t\\t\\t\\t\\t\\t\\t\\n\\n\\n\\t\\t\\t\\t\\t\\t\\t\\tPKR 50,000\\t\\t\\t\\t\\t\\t\\t\\n\\n\\nMonthly PaymentFor 2 Months \\n\\n\\n\\n\\n\\n\\n\\n\\n\\n\\n\\n\\n\\n \\n\\n\\n\\n\\n\\n\\n\\n\\n\\n\\n\\n\\t\\t\\t\\t\\t\\t\\t\\t\\tLumpsum\\t\\t\\t\\t\\t\\t\\t\\t\\n\\n\\n\\t\\t\\t\\t\\t\\t\\t\\tPKR 90,000\\t\\t\\t\\t\\t\\t\\t\\n\\n\\nAdvance PaymentFor 2 Months \\n\\n\\n\\n\\n\\n\\n\\n\\n\\n\\n\\n\\n\\n\\n\\n\\n\\n\\n\\n\\n\\n\\n\\n\\n\\n\\n\\nMeet Our Incredible Trainers \\n\\n\\n\\n\\n\\n\\n\\n\\n\\n\\n\\n\\n\\n\\n\\n\\n\\n\\n\\t\\t\\t\\t\\t\\tDr Naveed Iftikhar\\t\\t\\t\\t\\n\\n\\n\\n\\n\\nLinkedin\\n\\n \\n\\n\\n\\n\\n\\n\\n\\n\\n\\n\\n\\n\\n\\n\\n\\n\\n\\n\\n\\n\\n\\n\\n\\n\\t\\t\\t\\t\\t\\tMahnoor Salman\\t\\t\\t\\t\\n\\n\\n\\n\\n\\nLinkedin\\n\\n \\n\\n\\n\\n\\n\\n\\n\\n\\n\\n\\n\\n\\n\\n\\n\\n\\n\\n\\n\\n\\n\\n\\n\\n\\t\\t\\t\\t\\t\\tKibria Ahmad\\t\\t\\t\\t\\n\\n\\n\\n\\n\\nLinkedin\\n\\n \\n\\n\\n\\n\\n\\n\\n\\n\\n\\n\\n\\n\\n\\n\\n\\n\\n\\n\\n\\n\\n\\n\\n\\n\\t\\t\\t\\t\\t\\tMahreen Ahmad\\t\\t\\t\\t\\n\\n\\n\\n\\n\\nLinkedin\\n\\n \\n\\n\\n\\n\\n\\n\\n\\n\\n\\n\\n\\n\\n\\n\\n\\n\\n\\n\\n\\n\\n\\n\\n\\n\\n\\n\\n\\n\\nStart your AI journey—register now! \\n\\n\\n\\n\\n\\n\\n\\n\\n\\n\\n\\n\\n\\n\\n\\n\\n\\n\\n\\n\\n\\n \\n\\n\\n \\n\\n\\n\\n\\n\\n\\n \\n\\n\\n\\natomcamp is a continuous learning platform  unlocking opportunities with Data Science. \\n\\n\\n\\nFor general inquiries:admissions@atomcamp.com \\n\\n\\n\\n \\n\\n\\n\\n\\n\\n\\n\\n\\n\\n\\n\\n\\n\\n\\n\\n\\n\\n\\n\\n\\n\\n\\n\\n\\n\\n\\n \\n\\n\\n\\n\\n\\n\\n\\n\\n\\n\\n\\n\\nHome\\nAbout\\nCourse\\nPublications\\nAI Solutions\\nBlogs\\n \\n\\nHome\\nAbout\\nCourse\\nPublications\\nAI Solutions\\nBlogs\\n \\n\\n\\n\\n\\n\\n\\n\\n\\n\\n\\n\\n\\nDon’t miss our future updates! Get Subscribed Today! \\n\\n\\n\\n\\n\\n\\n\\n\\n\\n\\n\\n\\n\\n\\n\\n\\n\\n\\n\\n\\n\\n\\n\\n\\n\\n\\n\\n\\n\\n\\n\\n\\n\\n \\nFor Admissions: +92-302-2278371\\n\\n\\n\\n \\nFor Events & Partnerships: fizza@atomcamp.com\\n\\n\\n\\n \\n15-E Rehmat Center, G-6/2, Blue Area, Islamabad\\n\\n\\n\\n\\n\\n\\n\\n\\n\\n\\n\\nTerms and Conditions\\nRefund and Returns Policy\\nPrivacy Policy\\n \\n\\nTerms and Conditions\\nRefund and Returns Policy\\nPrivacy Policy\\n \\n\\n\\n\\n\\n\\n\\n\\n\\n\\n\\n\\n \\n\\n\\n\\n\\n Scroll to Top\\n\\n\\n\\n\\n\\n\\n\\n\\n\\n\\n\\n\\n\\n\\n\\n\\n\\n\\n\\n\\n\\n\\n\\n\\n\\n\\n\\n\\n\\n\\n\\n\\n\\n\\n\\n\\n\\n\\n\\n\\n\\n\\n\\n\\n\\n\\n\\n\\n\\n\\n\\n\\n\\n\\n\\n\\n\\n\\n\\n\\n\\n\\n\\n\\n\\n\\n\\n\\n\\n\\n\\n\\n\\n\\n\\n\\n')]"
      ]
     },
     "execution_count": 5,
     "metadata": {},
     "output_type": "execute_result"
    }
   ],
   "source": [
    "docs = loader.load()\n",
    "docs"
   ]
  },
  {
   "cell_type": "code",
   "execution_count": 6,
   "metadata": {},
   "outputs": [],
   "source": [
    "### Load Data--> Docs-->Divide our Docuemnts into chunks dcouments-->text-->vectors-->Vector Embeddings--->Vector Store DB\n",
    "from langchain_text_splitters import RecursiveCharacterTextSplitter\n",
    "\n",
    "text_splitter=RecursiveCharacterTextSplitter(chunk_size=1000,chunk_overlap=200)\n",
    "documents=text_splitter.split_documents(docs)"
   ]
  },
  {
   "cell_type": "code",
   "execution_count": 7,
   "metadata": {},
   "outputs": [
    {
     "data": {
      "text/plain": [
       "[Document(metadata={'source': 'https://www.atomcamp.com/ai-for-o-a-level/', 'title': 'AI for O/A Level | atomcamp', 'language': 'en-US'}, page_content='AI for O/A Level | atomcamp\\n\\n\\n\\n\\n\\n\\n\\n\\n\\n\\n\\n\\n\\n\\n\\n\\n\\n\\n\\n\\n\\n\\n\\n\\n\\n\\n\\n\\n\\n\\n\\n\\n\\n\\n\\n\\n\\n\\n\\n\\n\\n\\n\\n\\n\\n\\n\\n\\n\\n\\n\\n\\n\\n\\n\\n\\n\\n\\n\\n\\n\\n\\n\\n\\n\\n\\n\\n\\n\\n\\n\\n\\n\\n\\n\\n\\n\\n\\n\\n\\n\\n\\n\\n\\n\\n\\n\\n\\n\\n\\n\\n\\n\\n\\n\\n\\n\\n\\n\\n\\n\\n\\n\\n\\n\\n\\n\\n\\n\\n\\n\\n\\n\\n\\n\\n\\n\\n\\n\\n\\n\\n\\n\\n\\n\\n\\n\\n\\n\\n\\n\\t\\tSkip to content\\n\\n\\natomcamp\\n\\n\\n\\n\\n\\n\\n\\n\\n \\n\\n\\n\\n\\n\\n\\n\\n\\n\\n\\nMenu\\n\\n \\n\\n\\nAbout Us\\nCourses\\nEvents\\nBlogs\\nSustainability Lab\\nCareers\\n\\n\\n\\n\\n\\n\\n\\n\\n\\n\\n\\n\\n\\n\\n\\n\\n\\n\\n\\n\\n\\n \\n\\n\\n\\n\\n\\n\\n\\n\\n\\n\\n\\n\\n\\n \\n\\n\\n\\n\\n\\n\\n\\n \\n\\n\\n\\n\\n\\n\\n\\n \\n\\n\\n\\n\\n\\n\\n\\n\\n\\n\\n\\nArtificial Intelligence Bootcamp for O/A Level \\n\\n\\n\\n\\n\\n\\n \\nIn-person, NUST H-12 Campus, Islamabad. \\n\\n\\n\\n \\n20th June\\n\\n\\n\\n \\n2 Months\\n\\n\\n\\n\\n\\n\\n\\n\\n\\n \\nFriday to Sunday 4:00 PM to 7:00 PM\\n\\n\\n\\n\\n\\n\\n\\n\\n\\n\\n\\n\\n\\nApply Now\\n\\n\\n\\n\\n\\n\\n\\n\\n\\n\\n\\n\\n\\n\\npricing plan\\n\\n\\n\\n\\n\\n\\n\\n\\n\\n\\n\\n\\n\\n\\n\\n\\n\\n\\n\\n\\n\\n\\n \\nEligibility criteria\\n\\n\\n\\n\\n\\n\\n\\n\\n\\n \\n14-18 Years of Age (Male/Female)\\n\\n\\n\\n \\nStudents currently enrolled or have recently done O/A Levels or Metric/FSc\\n\\n\\n\\n \\nBasic computer literacy (no coding/AI experience required)'),\n",
       " Document(metadata={'source': 'https://www.atomcamp.com/ai-for-o-a-level/', 'title': 'AI for O/A Level | atomcamp', 'language': 'en-US'}, page_content='14-18 Years of Age (Male/Female)\\n\\n\\n\\n \\nStudents currently enrolled or have recently done O/A Levels or Metric/FSc\\n\\n\\n\\n \\nBasic computer literacy (no coding/AI experience required)\\n\\n\\n\\n\\n\\n\\n\\n\\n\\n\\n\\n\\n\\n\\n\\n\\n\\n\\natomcamp & NUST have jointly launched AI bootcamp for Islamabad’s youth to train them in the most in-demand AI skills.This bootcamp will facilitate students in launching their international freelancing careers, getting admissions abroad, and developing a sound technological foundation for any career.\\xa0Additionally, we will arrange extra curricular activities on-campus, sessions on soft skills, career-coaching, and industry visits. \\n\\n\\n\\n\\n\\n\\n\\nWhy should you enroll in this bootcamp?'),\n",
       " Document(metadata={'source': 'https://www.atomcamp.com/ai-for-o-a-level/', 'title': 'AI for O/A Level | atomcamp', 'language': 'en-US'}, page_content='Why should you enroll in this bootcamp? \\n\\n\\n\\n\\n\\n\\n\\nThe Data Science & AI engineering market, currently at $8 billion, is set to grow at 35% annually from 2025 to 2032. Key trends for 2025 include generative AI, sustainable AI, and augmented working, with significant growth expected in cloud-based AI applications, according to Gartner.Given these metrics, we believe that it’s high time to train Pakistani youth in these technical skills \\n\\n\\n\\n\\n\\n\\n\\n\\n\\n\\n\\n\\n\\n\\n\\n\\n\\n \\n\\n\\n\\n\\n\\n\\n\\n\\n\\n\\n\\n\\t\\t\\t\\t\\t\\t\\t\\t\\tStandard Monthly\\t\\t\\t\\t\\t\\t\\t\\t\\n\\n\\n\\t\\t\\t\\t\\t\\t\\t\\tPKR 50,000\\t\\t\\t\\t\\t\\t\\t\\n\\n\\nMonthly PaymentFor 2 Months \\n\\n\\n\\n\\n\\n\\n\\n\\n\\n\\n\\n\\n\\n\\n\\n\\n\\n \\n\\n\\n\\n\\n\\n\\n\\n\\n\\n\\n\\n\\t\\t\\t\\t\\t\\t\\t\\t\\tLumpsum\\t\\t\\t\\t\\t\\t\\t\\t\\n\\n\\n\\t\\t\\t\\t\\t\\t\\t\\tPKR 90,000\\t\\t\\t\\t\\t\\t\\t\\n\\n\\nAdvance PaymentFor 2 Months \\n\\n\\n\\n\\n\\n\\n\\n\\n\\n\\n\\n\\n\\n\\n\\n\\n\\n\\n\\n\\n\\n\\n\\n\\n\\n\\n\\nWhy choose this  bootcamp? \\n\\n\\n\\n\\n\\n\\n\\nGet yourself ready for future of work and here is how we help you do that: \\n\\n\\n\\n\\n\\n\\n\\n\\n\\n\\n \\nCareer counseling\\n\\n\\n\\n \\nGlobal freelancing career\\n\\n\\n\\n \\nFacilitation for university application \\n\\n\\n\\n\\n\\n\\n\\n\\n\\n\\n\\n\\n\\n \\nIndustry tours\\n\\n\\n\\n \\nTeamwork and networking'),\n",
       " Document(metadata={'source': 'https://www.atomcamp.com/ai-for-o-a-level/', 'title': 'AI for O/A Level | atomcamp', 'language': 'en-US'}, page_content='Career counseling\\n\\n\\n\\n \\nGlobal freelancing career\\n\\n\\n\\n \\nFacilitation for university application \\n\\n\\n\\n\\n\\n\\n\\n\\n\\n\\n\\n\\n\\n \\nIndustry tours\\n\\n\\n\\n \\nTeamwork and networking\\n\\n\\n\\n \\nProfessional development \\n\\n\\n\\n\\n\\n\\n\\n\\n\\n\\n\\n\\n\\n\\n\\n\\n\\n\\n\\n\\t\\t\\t\\t0\\t\\t\\t\\n\\n\\t\\t\\t\\t\\t%\\t\\t\\t\\t\\n\\n\\n\\n\\t\\t\\t\\t\\t\\tAnnual Growth Rate \\t\\t\\t\\t\\t\\n\\n\\n\\n\\n\\n\\n\\n\\n\\n\\n\\n\\n\\n\\n\\n\\n\\n\\t\\t\\t\\t\\t$\\t\\t\\t\\t\\n\\n\\t\\t\\t\\t0\\t\\t\\t\\n\\n\\t\\t\\t\\t\\tBillion\\t\\t\\t\\t\\n\\n\\n\\n\\t\\t\\t\\t\\t\\tAI Engineering Market Size (2024)\\t\\t\\t\\t\\t\\n\\n\\n\\n\\n\\n\\n\\n\\n\\n\\n\\n\\n\\n\\n\\n\\n\\n\\n\\n\\n\\n\\n\\n\\n\\n\\n\\n\\n\\n\\n\\n\\n\\n\\n\\n\\n\\n\\n\\nWhat’s Inside \\n\\n\\n\\n\\n\\n\\n\\n\\n\\n\\n\\n\\n\\n\\n\\n\\n\\n \\n\\n\\n\\n\\n\\n\\n\\n\\n\\n\\n\\n\\t\\t\\t\\t\\t\\t\\t\\t\\tExtra-Curricular Activities\\t\\t\\t\\t\\t\\t\\t\\t\\n\\n\\n\\nExplore passions, build skills, and grow together.\\xa0 \\n\\n\\n\\n\\n\\n\\n\\n\\n\\n\\n\\n\\n\\n \\n\\n\\n\\n\\n\\n\\n\\n\\n\\n\\n\\n\\t\\t\\t\\t\\t\\t\\t\\t\\t1-on-1 Coaching & Mentorship\\t\\t\\t\\t\\t\\t\\t\\t\\n\\n\\n\\nReceive individualized mentorship to navigate your way through your AI career. \\n\\n\\n\\n\\n\\n\\n\\n\\n\\n\\n\\n\\n\\n \\n\\n\\n\\n\\n\\n\\n\\n\\n\\n\\n\\n\\t\\t\\t\\t\\t\\t\\t\\t\\tSpeaker Sessions\\t\\t\\t\\t\\t\\t\\t\\t\\n\\n\\n\\nRegular speaker series with industry professionals and hiring managers \\n\\n\\n\\n\\n\\n\\n\\n\\n\\n\\n\\n\\n\\n\\n\\n\\n\\n\\n\\n\\n\\n\\n\\n\\n\\n\\n\\n\\nYoung Innovators: Startup Discovery at\\n NSTP H12'),\n",
       " Document(metadata={'source': 'https://www.atomcamp.com/ai-for-o-a-level/', 'title': 'AI for O/A Level | atomcamp', 'language': 'en-US'}, page_content='Regular speaker series with industry professionals and hiring managers \\n\\n\\n\\n\\n\\n\\n\\n\\n\\n\\n\\n\\n\\n\\n\\n\\n\\n\\n\\n\\n\\n\\n\\n\\n\\n\\n\\n\\nYoung Innovators: Startup Discovery at\\n NSTP H12 \\n\\n\\n\\n\\n\\n\\n\\n\\n\\n\\n\\n\\n\\n\\n\\n\\n\\n\\n\\nYoung Innovators is a half-day visit where K–12 students from our bootcamps tour the NSTP startup at H12, engage with the team, and participate in a hands-on mini-workshop. \\n\\n\\n\\n\\n\\n\\n\\n\\n\\n\\n\\n\\n\\n\\n\\n\\n\\n\\n \\nStudents see real-world applications of low-code/no-code tools, data analytics, and AI in a startup environment.\\n\\n\\n\\n\\n\\n\\n\\n\\n\\n \\nThey connect classroom concepts to entrepreneurial problem-solving and product development.\\n\\n\\n\\n\\n\\n\\n\\n\\n\\n \\nDirect interaction with innovators inspires creativity, boosts motivation, and builds professional confidence.\\n\\n\\n\\n\\n\\n\\n\\n\\n\\n\\n\\n\\n\\n\\n\\n\\n\\n\\n\\n\\n\\n\\nObjective'),\n",
       " Document(metadata={'source': 'https://www.atomcamp.com/ai-for-o-a-level/', 'title': 'AI for O/A Level | atomcamp', 'language': 'en-US'}, page_content='This two-month summer bootcamp is the perfect opportunity for students to not only explore AI but also make the most out of their summer. In these 2 months, they’ll be gaining practical, hands-on skills that will set them apart from their peers.It’s an intensive but incredibly rewarding experience. Students will not only learn the most in-demand skills like Python programming, AI agent building, and prompt engineering, but they’ll also gain clarity on their future career paths. In just two months, they’ll be exposed to a range of tech fields, from building AI models to deploying products, and everything in between. This exposure will help them figure out what excites them the most, whether that’s building products, working with AI in a creative space, or becoming a leader in tech.The summer isn’t just about learning – it’s about exploring different career possibilities, getting inspired by industry trips, and interacting with peers who share similar interests. This is a transformative'),\n",
       " Document(metadata={'source': 'https://www.atomcamp.com/ai-for-o-a-level/', 'title': 'AI for O/A Level | atomcamp', 'language': 'en-US'}, page_content='isn’t just about learning – it’s about exploring different career possibilities, getting inspired by industry trips, and interacting with peers who share similar interests. This is a transformative chance for students to not only develop technical skills but also get a clear sense of the direction they want their futures to take. They’ll finish the bootcamp not only with a stronger resume but with a roadmap of where they want to go next in their careers.It’s about making this summer count. Instead of just passing the time, students will walk away with tangible skills, clear insights into the future of AI, and a sense of purpose for what they want to achieve next.'),\n",
       " Document(metadata={'source': 'https://www.atomcamp.com/ai-for-o-a-level/', 'title': 'AI for O/A Level | atomcamp', 'language': 'en-US'}, page_content='Previous Bootcamp Highlights \\n\\n\\n\\n\\n \\n\\n\\n\\n\\n\\n\\n\\n\\n\\n\\n\\n\\n\\n\\n\\n\\n\\n\\n\\n\\nCourse Curriculum \\n\\n\\n\\n\\n\\n\\n\\n\\n\\n\\n\\n\\n\\n\\n\\n\\nWhat is AI? Welcome to GenAI & Agents\\n\\n\\n\\n \\n\\n\\n \\n\\n\\n\\n\\n\\nObjective: Introduce core AI concepts and how machines understand human language.Topics Covered:What is AI? Types of AI (with examples like Siri, ChatGPT)AI vs. GenAI vs. AI AgentsIntro to LLMs (in simple terms)Chatbot anatomy & workflowsHands-on: Play with ChatGPT (basic Q&A, fun facts, jokes) \\n\\n\\n\\n\\n\\nModule 2: Prompt Engineering & No-Code Agents\\n\\n\\n\\n \\n\\n\\n \\n\\n\\n\\n\\n\\nObjective: Teach students to “talk” to AI and build first bots without code.Topics Covered:Prompt anatomy: roles, context, instructionsChain-of-Thought promptingPersona prompts & formattingFlowise drag-and-drop flowsQuick-start on Poe or SuperagentProject Idea: “Daily Motivation” or “Quiz Master” bot in Flowise \\n\\n\\n\\n\\n\\nModule 3: Python Programming Fundamentals'),\n",
       " Document(metadata={'source': 'https://www.atomcamp.com/ai-for-o-a-level/', 'title': 'AI for O/A Level | atomcamp', 'language': 'en-US'}, page_content='Module 3: Python Programming Fundamentals\\n\\n\\n\\n \\n\\n\\n \\n\\n\\n\\n\\n\\nObjective: Teach basic Python programming to enable AI implementation.Topics Covered:Python Basics: Variables, data types, operatorsInput/output (print, input functions)Control Structures: Conditionals (if-else) Loops (for, while)Functions & Lists: Defining and calling functions, Storing and manipulating data in listsSimple NLP: word count, keyword spottingProject Idea: Vibe Checker” script: counts positive/negative words in a sentence \\n\\n\\n\\n\\n\\nModule 4: Python + AI APIs—Build Your First Code-Based Agent'),\n",
       " Document(metadata={'source': 'https://www.atomcamp.com/ai-for-o-a-level/', 'title': 'AI for O/A Level | atomcamp', 'language': 'en-US'}, page_content='Module 4: Python + AI APIs—Build Your First Code-Based Agent\\n\\n\\n\\n \\n\\n\\n \\n\\n\\n\\n\\n\\nObjective: Combine Python logic with LLMs via API calls to build interactive agents. Topics Covered:Understanding APIsWhat are APIs?How APIs WorkWhy APIs are Useful for AIInstalling & importing OpenAI or Hugging Face client librariesSending prompts & receiving completionsDialogue loops & basic error handlingSecure API key management (environment variables)Project: “Fun Facts Bot” CLI: user asks a question → Python sends to LLM → prints a fun fact. \\n\\n\\n\\n\\n\\nModule 5: LangChain & Retrieval-Augmented Generation (RAG)'),\n",
       " Document(metadata={'source': 'https://www.atomcamp.com/ai-for-o-a-level/', 'title': 'AI for O/A Level | atomcamp', 'language': 'en-US'}, page_content='Module 5: LangChain & Retrieval-Augmented Generation (RAG)\\n\\n\\n\\n \\n\\n\\n \\n\\n\\n\\n\\n\\nObjective: Explore how AI agents use memory and external knowledge with simplified LangChain and RAG concepts.Topics Covered:Concept of memory: short-term vs. long-termEmbeddings & vector stores (intuitive demos)RAG basics: retrieving docs, building contextConnecting documents to bots for Q&ABasic LLM pipelines (user → prompt → retrieval → response)\\xa0Project: Build a “Notes Q&A Bot” that answers questions from your uploaded notes or a short document. \\n\\n\\n\\n\\n\\nModule 6: Multi-Agent Workflows with CrewAI\\n\\n\\n\\n \\n\\n\\n \\n\\n\\n\\n\\n\\nObjective: Build teams of AI agents using roles for collaborative problem solving Topics Covered:Multi-agent systems & role definitions (Planner, Researcher, Writer)CrewAI setup & configurationTask coordination between agents\\xa0Ethics refresher: avoiding conflicting directivesProject: Build a “Project Team” of 3 agents: plan a school event or solve a challenge'),\n",
       " Document(metadata={'source': 'https://www.atomcamp.com/ai-for-o-a-level/', 'title': 'AI for O/A Level | atomcamp', 'language': 'en-US'}, page_content='Module 7: No-Code AI Workflows with n8n\\n\\n\\n\\n \\n\\n\\n \\n\\n\\n\\n\\n\\nObjective: Teach students how to build multi-step, automated workflows using AI and external apps, without writing code.Topics Covered:What is workflow automation? Why use tools like n8n?\\xa0Introduction to n8n: nodes, triggers, actions, and data flow\\xa0Connecting n8n to ChatGPT using the OpenAI node\\xa0Creating simple logic flows: conditions, loops, and delays\\xa0Using triggers: Google Sheets, Webhooks, Time-based events\\xa0Sending and receiving data between nodes\\xa0Debugging workflows and managing failed executions\\xa0Example use cases: auto-email responders, daily reminders, form processorsProject: “AI Workflow Assistant” Students will build a multi-step workflow that uses AI to process input and trigger useful outputs A “Homework Help Bot” that takes a Google Form submission → sends it to ChatGPT → emails back a simplified explanation \\n\\n\\n\\n\\n\\nModule 8: Containerization & UI Packaging'),\n",
       " Document(metadata={'source': 'https://www.atomcamp.com/ai-for-o-a-level/', 'title': 'AI for O/A Level | atomcamp', 'language': 'en-US'}, page_content='Module 8: Containerization & UI Packaging\\n\\n\\n\\n \\n\\n\\n \\n\\n\\n\\n\\n\\nObjective: Package your capstone agent into a portable container with a user interface.Topics Covered:What is containerization? Why use Docker?Writing a Dockerfile for a Python/Streamlit (or Gradio) appExposing ports & environment variablesBuilding & running your container locallyBasic UI design with Streamlit or Gradio componentsProject:Wrap your Phidata/CrewAI/LangChain agent in a Streamlit or Gradio UI.Write a Dockerfile, build a local container image, and run it to verify functionality. \\n\\n\\n\\n\\n\\nModule 9: GitHub for AI Projects'),\n",
       " Document(metadata={'source': 'https://www.atomcamp.com/ai-for-o-a-level/', 'title': 'AI for O/A Level | atomcamp', 'language': 'en-US'}, page_content='Module 9: GitHub for AI Projects\\n\\n\\n\\n \\n\\n\\n \\n\\n\\n\\n\\n\\nObjective: How to use GitHub for version control, project management, and deployment integration.Topics Covered:What is Git and GitHub? Why developers use themCreating and cloning repositoriesBasic Git commands: add, commit, push, pullUsing .gitignore and managing project filesWriting good README files and commit messagesConnecting GitHub to Vercel/Replit for deploymentUnderstanding open-source and collaboration basicProject Idea:Push your AI assistant project to GitHub with a clear README \\n\\n\\n\\n\\n\\nModule 10: Deployment on Vercel (or Replit Fallback)\\n\\n\\n\\n \\n\\n\\n \\n\\n\\n\\n\\n\\nObjective: Deploy your containerized agent online so anyone can access it.Topics Covered:Cloud vs. local apps: why cloud deployment mattersOverview of VercelSetting up a Vercel account and connecting GitHubDeploying your agent with serverless functions or static hostingEnvironment variables and deployment settings in VercelSharing live URLs and monitoring usage'),\n",
       " Document(metadata={'source': 'https://www.atomcamp.com/ai-for-o-a-level/', 'title': 'AI for O/A Level | atomcamp', 'language': 'en-US'}, page_content='What you will learn \\n\\n\\n\\n\\n\\n\\n\\n\\n\\n\\n\\n\\n\\n\\n\\n\\n\\n\\n \\nExplain core AI concepts and how NLP and Generative AI technologies like LLMs work\\n\\n\\n\\n \\nDesign and evaluate effective prompts for interacting with AI models\\n\\n\\n\\n \\nBuild AI agents using both no-code tools (e.g., Flowise, n8n) and Python-based code\\n\\n\\n\\n \\nImplement memory-augmented workflows and coordinate multi-agent systems\\n\\n\\n\\n \\nPackage, containerize, and deploy AI agents with user interfaces to the cloud\\n\\n\\n\\n\\n\\n\\n\\n\\n\\n\\n\\n\\n\\n\\n\\n\\n\\n\\n\\n\\n\\n\\nTools You Will Master \\n\\n\\n\\n\\n\\n\\n\\n\\n\\n\\n\\n\\n\\n\\n\\n \\n\\n\\n\\n\\n\\n\\n\\n \\n\\n\\n\\n\\n\\n\\n\\n \\n\\n\\n\\n\\n\\n\\n\\n \\n\\n\\n\\n\\n\\n\\n\\n\\n\\n\\n\\n \\n\\n\\n\\n\\n\\n\\n\\n \\n\\n\\n\\n\\n\\n\\n\\n \\n\\n\\n\\n\\n\\n\\n\\n \\n\\n\\n\\n\\n\\n\\n\\n\\n\\n\\n\\n\\n\\n\\n\\n\\n\\n\\n\\nWords are cool,\\nbut have you met our incredible results?'),\n",
       " Document(metadata={'source': 'https://www.atomcamp.com/ai-for-o-a-level/', 'title': 'AI for O/A Level | atomcamp', 'language': 'en-US'}, page_content='Words are cool,\\nbut have you met our incredible results? \\n\\n\\n\\n\\n\\n\\n\\n\\n\\n\\n\\n\\n\\n\\n\\n\\n\\n\\n\\n\\n\\n\\n\\t\\t\\t\\t\\t\\t\"Attending atomcamps Bootcamp in 2024 was a game-changer for me as an O/A Level student. I gained practical skills in Python, Machine Learning, Power BI, and Excel through fun, hands-on projects. The supportive environment and collaborative peers made learning enjoyable. This experience boosted my confidence and inspired me to pursue tech further. I highly recommend it to any student eager to grow their skills.\"\\t\\t\\t\\t\\t\\n\\n\\n\\n\\n\\nFurqan AdeelBootcamp Graduate'),\n",
       " Document(metadata={'source': 'https://www.atomcamp.com/ai-for-o-a-level/', 'title': 'AI for O/A Level | atomcamp', 'language': 'en-US'}, page_content='Furqan AdeelBootcamp Graduate \\n\\n\\n\\n\\n\\n\\n\\t\\t\\t\\t\\t\\t\"I joined Atomcamp’s O-/A-Level AI Bootcamp and had an amazing learning experience! We covered Excel, Power BI, Python, and even got a beginner’s look at machine learning. The hands-on projects and supportive teachers made it fun and motivating. I gained practical skills and confidence working with data and AI. I highly recommend this bootcamp to anyone wanting a great introduction to AI and tech.\"\\t\\t\\t\\t\\t\\n\\n\\n\\n\\n\\nRohan RizwanBootcamp Graduate \\n\\n\\n\\n\\n\\n\\n\\n\\n\\n\\n\\n\\n\\n\\n\\n\\n\\n\\nWe are excited to announce that our bootcamp will take place at NUST, H-12 Campus, Islamabad. \\n\\n\\n\\n\\n\\n\\n\\n\\n\\n\\n\\n\\n\\n\\n\\n\\n\\n\\n\\n\\n\\n\\n\\nWe train Professionals from top organizations across Industries. \\n\\n\\n\\n\\n\\n\\n\\n\\n\\n\\n\\n\\n\\n\\n\\n\\n\\n\\n\\n\\n\\n\\n\\n \\n\\n\\n\\n\\n\\n\\n\\n \\n\\n\\n\\n\\n\\n\\n\\n \\n\\n\\n\\n\\n\\n\\n\\n \\n\\n\\n\\n\\n\\n\\n\\n \\n\\n\\n\\n\\n\\n\\n\\n \\n\\n\\n\\n\\n\\n\\n\\n \\n\\n\\n\\n\\n\\n\\n\\n \\n\\n\\n\\n\\n\\n\\n\\n\\n\\n\\n\\n\\n\\n\\n\\n\\n\\n\\n\\n\\n\\n\\n \\nGet a verified certificate to prove your skills.\\n\\n\\n\\n\\n\\n\\nEarn a Verified Certificate of Completion'),\n",
       " Document(metadata={'source': 'https://www.atomcamp.com/ai-for-o-a-level/', 'title': 'AI for O/A Level | atomcamp', 'language': 'en-US'}, page_content='Get a verified certificate to prove your skills.\\n\\n\\n\\n\\n\\n\\nEarn a Verified Certificate of Completion \\n\\n\\n\\nEarn a data analytics certificate, verifying your skills. Step into the market with a proven and trusted skillset. \\n\\n\\n\\n\\n\\n\\n\\n\\n\\n\\n\\n \\n\\n\\n\\n\\n\\n\\n\\n\\n\\n\\n\\n\\n\\n\\n\\n\\n\\n\\n\\nPricing Plan \\n\\n\\n\\nPick a plan that fits your needs and budget. \\n\\n\\n\\n\\n\\n\\n\\n\\n\\n\\n\\n\\n\\n\\n\\n\\n\\n\\n\\n\\n\\n \\n\\n\\n\\n\\n\\n\\n\\n\\n\\n\\n\\n\\t\\t\\t\\t\\t\\t\\t\\t\\tStandard Monthly\\t\\t\\t\\t\\t\\t\\t\\t\\n\\n\\n\\t\\t\\t\\t\\t\\t\\t\\tPKR 50,000\\t\\t\\t\\t\\t\\t\\t\\n\\n\\nMonthly PaymentFor 2 Months \\n\\n\\n\\n\\n\\n\\n\\n\\n\\n\\n\\n\\n\\n \\n\\n\\n\\n\\n\\n\\n\\n\\n\\n\\n\\n\\t\\t\\t\\t\\t\\t\\t\\t\\tLumpsum\\t\\t\\t\\t\\t\\t\\t\\t\\n\\n\\n\\t\\t\\t\\t\\t\\t\\t\\tPKR 90,000\\t\\t\\t\\t\\t\\t\\t\\n\\n\\nAdvance PaymentFor 2 Months \\n\\n\\n\\n\\n\\n\\n\\n\\n\\n\\n\\n\\n\\n\\n\\n\\n\\n\\n\\n\\n\\n\\n\\n\\n\\n\\n\\nMeet Our Incredible Trainers \\n\\n\\n\\n\\n\\n\\n\\n\\n\\n\\n\\n\\n\\n\\n\\n\\n\\n\\n\\t\\t\\t\\t\\t\\tDr Naveed Iftikhar\\t\\t\\t\\t\\n\\n\\n\\n\\n\\nLinkedin\\n\\n \\n\\n\\n\\n\\n\\n\\n\\n\\n\\n\\n\\n\\n\\n\\n\\n\\n\\n\\n\\n\\n\\n\\n\\n\\t\\t\\t\\t\\t\\tMahnoor Salman\\t\\t\\t\\t\\n\\n\\n\\n\\n\\nLinkedin\\n\\n \\n\\n\\n\\n\\n\\n\\n\\n\\n\\n\\n\\n\\n\\n\\n\\n\\n\\n\\n\\n\\n\\n\\n\\n\\t\\t\\t\\t\\t\\tKibria Ahmad\\t\\t\\t\\t\\n\\n\\n\\n\\n\\nLinkedin\\n\\n \\n\\n\\n\\n\\n\\n\\n\\n\\n\\n\\n\\n\\n\\n\\n\\n\\n\\n\\n\\n\\n\\n\\n\\n\\t\\t\\t\\t\\t\\tMahreen Ahmad\\t\\t\\t\\t\\n\\n\\n\\n\\n\\nLinkedin'),\n",
       " Document(metadata={'source': 'https://www.atomcamp.com/ai-for-o-a-level/', 'title': 'AI for O/A Level | atomcamp', 'language': 'en-US'}, page_content='Mahnoor Salman\\t\\t\\t\\t\\n\\n\\n\\n\\n\\nLinkedin\\n\\n \\n\\n\\n\\n\\n\\n\\n\\n\\n\\n\\n\\n\\n\\n\\n\\n\\n\\n\\n\\n\\n\\n\\n\\n\\t\\t\\t\\t\\t\\tKibria Ahmad\\t\\t\\t\\t\\n\\n\\n\\n\\n\\nLinkedin\\n\\n \\n\\n\\n\\n\\n\\n\\n\\n\\n\\n\\n\\n\\n\\n\\n\\n\\n\\n\\n\\n\\n\\n\\n\\n\\t\\t\\t\\t\\t\\tMahreen Ahmad\\t\\t\\t\\t\\n\\n\\n\\n\\n\\nLinkedin\\n\\n \\n\\n\\n\\n\\n\\n\\n\\n\\n\\n\\n\\n\\n\\n\\n\\n\\n\\n\\n\\n\\n\\n\\n\\n\\n\\n\\n\\n\\nStart your AI journey—register now! \\n\\n\\n\\n\\n\\n\\n\\n\\n\\n\\n\\n\\n\\n\\n\\n\\n\\n\\n\\n\\n\\n \\n\\n\\n \\n\\n\\n\\n\\n\\n\\n \\n\\n\\n\\natomcamp is a continuous learning platform  unlocking opportunities with Data Science. \\n\\n\\n\\nFor general inquiries:admissions@atomcamp.com \\n\\n\\n\\n \\n\\n\\n\\n\\n\\n\\n\\n\\n\\n\\n\\n\\n\\n\\n\\n\\n\\n\\n\\n\\n\\n\\n\\n\\n\\n\\n \\n\\n\\n\\n\\n\\n\\n\\n\\n\\n\\n\\n\\nHome\\nAbout\\nCourse\\nPublications\\nAI Solutions\\nBlogs\\n \\n\\nHome\\nAbout\\nCourse\\nPublications\\nAI Solutions\\nBlogs\\n \\n\\n\\n\\n\\n\\n\\n\\n\\n\\n\\n\\n\\nDon’t miss our future updates! Get Subscribed Today! \\n\\n\\n\\n\\n\\n\\n\\n\\n\\n\\n\\n\\n\\n\\n\\n\\n\\n\\n\\n\\n\\n\\n\\n\\n\\n\\n\\n\\n\\n\\n\\n\\n\\n \\nFor Admissions: +92-302-2278371\\n\\n\\n\\n \\nFor Events & Partnerships: fizza@atomcamp.com\\n\\n\\n\\n \\n15-E Rehmat Center, G-6/2, Blue Area, Islamabad\\n\\n\\n\\n\\n\\n\\n\\n\\n\\n\\n\\nTerms and Conditions\\nRefund and Returns Policy\\nPrivacy Policy\\n \\n\\nTerms and Conditions\\nRefund and Returns Policy\\nPrivacy Policy\\n \\n\\n\\n\\n\\n\\n\\n\\n\\n\\n\\n\\n \\n\\n\\n\\n\\n Scroll to Top'),\n",
       " Document(metadata={'source': 'https://www.atomcamp.com/ai-for-o-a-level/', 'title': 'AI for O/A Level | atomcamp', 'language': 'en-US'}, page_content='Terms and Conditions\\nRefund and Returns Policy\\nPrivacy Policy\\n \\n\\nTerms and Conditions\\nRefund and Returns Policy\\nPrivacy Policy\\n \\n\\n\\n\\n\\n\\n\\n\\n\\n\\n\\n\\n \\n\\n\\n\\n\\n Scroll to Top')]"
      ]
     },
     "execution_count": 7,
     "metadata": {},
     "output_type": "execute_result"
    }
   ],
   "source": [
    "documents"
   ]
  },
  {
   "cell_type": "code",
   "execution_count": 9,
   "metadata": {},
   "outputs": [],
   "source": [
    "from langchain_openai import OpenAIEmbeddings\n",
    "from langchain_community.vectorstores import FAISS\n",
    "embeddings = OpenAIEmbeddings()\n",
    "vectorstoredb = FAISS.from_documents(documents,embeddings)"
   ]
  },
  {
   "cell_type": "code",
   "execution_count": 10,
   "metadata": {},
   "outputs": [
    {
     "data": {
      "text/plain": [
       "<langchain_community.vectorstores.faiss.FAISS at 0x26e6c9d3fe0>"
      ]
     },
     "execution_count": 10,
     "metadata": {},
     "output_type": "execute_result"
    }
   ],
   "source": [
    "vectorstoredb"
   ]
  },
  {
   "cell_type": "code",
   "execution_count": 16,
   "metadata": {},
   "outputs": [
    {
     "data": {
      "text/plain": [
       "'isn’t just about learning – it’s about exploring different career possibilities, getting inspired by industry trips, and interacting with peers who share similar interests. This is a transformative chance for students to not only develop technical skills but also get a clear sense of the direction they want their futures to take. They’ll finish the bootcamp not only with a stronger resume but with a roadmap of where they want to go next in their careers.It’s about making this summer count. Instead of just passing the time, students will walk away with tangible skills, clear insights into the future of AI, and a sense of purpose for what they want to achieve next.'"
      ]
     },
     "execution_count": 16,
     "metadata": {},
     "output_type": "execute_result"
    }
   ],
   "source": [
    "## Query From a vector db\n",
    "query = \"It’s an intensive but incredibly rewarding experience.\"\n",
    "result=vectorstoredb.similarity_search(query)\n",
    "result[0].page_content"
   ]
  },
  {
   "cell_type": "code",
   "execution_count": 17,
   "metadata": {},
   "outputs": [],
   "source": [
    "from langchain_openai import ChatOpenAI\n",
    "llm=ChatOpenAI(model=\"gpt-4o\")"
   ]
  },
  {
   "cell_type": "code",
   "execution_count": 18,
   "metadata": {},
   "outputs": [
    {
     "data": {
      "text/plain": [
       "RunnableBinding(bound=RunnableBinding(bound=RunnableAssign(mapper={\n",
       "  context: RunnableLambda(format_docs)\n",
       "}), kwargs={}, config={'run_name': 'format_inputs'}, config_factories=[])\n",
       "| ChatPromptTemplate(input_variables=['context'], input_types={}, partial_variables={}, messages=[HumanMessagePromptTemplate(prompt=PromptTemplate(input_variables=['context'], input_types={}, partial_variables={}, template='\\nAnswer the following question based only on the provided context:\\n<context>\\n{context}\\n</context>\\n\\n\\n'), additional_kwargs={})])\n",
       "| ChatOpenAI(client=<openai.resources.chat.completions.completions.Completions object at 0x0000026E6CDFC320>, async_client=<openai.resources.chat.completions.completions.AsyncCompletions object at 0x0000026E6C7A40E0>, root_client=<openai.OpenAI object at 0x0000026E4D3EC6E0>, root_async_client=<openai.AsyncOpenAI object at 0x0000026E6C7A5A90>, model_name='gpt-4o', model_kwargs={}, openai_api_key=SecretStr('**********'))\n",
       "| StrOutputParser(), kwargs={}, config={'run_name': 'stuff_documents_chain'}, config_factories=[])"
      ]
     },
     "execution_count": 18,
     "metadata": {},
     "output_type": "execute_result"
    }
   ],
   "source": [
    "## Retrieval Chain, Document chain\n",
    "\n",
    "from langchain.chains.combine_documents import create_stuff_documents_chain\n",
    "from langchain_core.prompts import ChatPromptTemplate\n",
    "\n",
    "prompt=ChatPromptTemplate.from_template(\n",
    "    \"\"\"\n",
    "Answer the following question based only on the provided context:\n",
    "<context>\n",
    "{context}\n",
    "</context>\n",
    "\n",
    "\n",
    "\"\"\"\n",
    ")\n",
    "\n",
    "document_chain=create_stuff_documents_chain(llm,prompt)\n",
    "document_chain"
   ]
  },
  {
   "cell_type": "code",
   "execution_count": 23,
   "metadata": {},
   "outputs": [
    {
     "data": {
      "text/plain": [
       "'LangSmith has two usage limits: total traces and extended traces. These correspond to the two metrics tracked on their usage graph.'"
      ]
     },
     "execution_count": 23,
     "metadata": {},
     "output_type": "execute_result"
    }
   ],
   "source": [
    "from langchain_core.documents import Document\n",
    "document_chain.invoke({\n",
    "    \"input\":\"LangSmith has two usage limits: total traces and extended\",\n",
    "    \"context\":[Document(page_content=\"LangSmith has two usage limits: total traces and extended traces. These correspond to the two metrics we've been tracking on our usage graph. \")]\n",
    "})"
   ]
  },
  {
   "cell_type": "code",
   "execution_count": 23,
   "metadata": {},
   "outputs": [
    {
     "data": {
      "text/plain": [
       "'The bootcamp is designed to help students launch their international freelancing careers, get admissions abroad, and develop a strong technological foundation for any career.'"
      ]
     },
     "execution_count": 23,
     "metadata": {},
     "output_type": "execute_result"
    }
   ],
   "source": [
    "from langchain_core.documents import Document\n",
    "document_chain.invoke({\n",
    "    \"input\":\"This bootcamp will facilitate students in launching their international freelancing careers \",\n",
    "    \"context\":[Document(page_content=\"This bootcamp will facilitate students in launching their international freelancing careers, getting admissions abroad, and developing a sound technological foundation for any career. \")]\n",
    "})"
   ]
  },
  {
   "cell_type": "markdown",
   "metadata": {},
   "source": [
    "However, we want the documents to first come from the retriever we just set up. That way, we can use the retriever to dynamically select the most relevant documents and pass those in for a given question."
   ]
  },
  {
   "cell_type": "code",
   "execution_count": 24,
   "metadata": {},
   "outputs": [
    {
     "data": {
      "text/plain": [
       "<langchain_community.vectorstores.faiss.FAISS at 0x26e6c9d3fe0>"
      ]
     },
     "execution_count": 24,
     "metadata": {},
     "output_type": "execute_result"
    }
   ],
   "source": [
    "### Input--->Retriever--->vectorstoredb\n",
    "\n",
    "vectorstoredb"
   ]
  },
  {
   "cell_type": "code",
   "execution_count": 26,
   "metadata": {},
   "outputs": [],
   "source": [
    "retriever = vectorstoredb.as_retriever()\n",
    "from langchain.chains import create_retrieval_chain\n",
    "retrieval_chain = create_retrieval_chain(retriever,document_chain)"
   ]
  },
  {
   "cell_type": "code",
   "execution_count": 27,
   "metadata": {},
   "outputs": [
    {
     "data": {
      "text/plain": [
       "RunnableBinding(bound=RunnableAssign(mapper={\n",
       "  context: RunnableBinding(bound=RunnableLambda(lambda x: x['input'])\n",
       "           | VectorStoreRetriever(tags=['FAISS', 'OpenAIEmbeddings'], vectorstore=<langchain_community.vectorstores.faiss.FAISS object at 0x0000026E6C9D3FE0>, search_kwargs={}), kwargs={}, config={'run_name': 'retrieve_documents'}, config_factories=[])\n",
       "})\n",
       "| RunnableAssign(mapper={\n",
       "    answer: RunnableBinding(bound=RunnableBinding(bound=RunnableAssign(mapper={\n",
       "              context: RunnableLambda(format_docs)\n",
       "            }), kwargs={}, config={'run_name': 'format_inputs'}, config_factories=[])\n",
       "            | ChatPromptTemplate(input_variables=['context'], input_types={}, partial_variables={}, messages=[HumanMessagePromptTemplate(prompt=PromptTemplate(input_variables=['context'], input_types={}, partial_variables={}, template='\\nAnswer the following question based only on the provided context:\\n<context>\\n{context}\\n</context>\\n\\n\\n'), additional_kwargs={})])\n",
       "            | ChatOpenAI(client=<openai.resources.chat.completions.completions.Completions object at 0x0000026E6CDFC320>, async_client=<openai.resources.chat.completions.completions.AsyncCompletions object at 0x0000026E6C7A40E0>, root_client=<openai.OpenAI object at 0x0000026E4D3EC6E0>, root_async_client=<openai.AsyncOpenAI object at 0x0000026E6C7A5A90>, model_name='gpt-4o', model_kwargs={}, openai_api_key=SecretStr('**********'))\n",
       "            | StrOutputParser(), kwargs={}, config={'run_name': 'stuff_documents_chain'}, config_factories=[])\n",
       "  }), kwargs={}, config={'run_name': 'retrieval_chain'}, config_factories=[])"
      ]
     },
     "execution_count": 27,
     "metadata": {},
     "output_type": "execute_result"
    }
   ],
   "source": [
    "retrieval_chain"
   ]
  },
  {
   "cell_type": "code",
   "execution_count": 29,
   "metadata": {},
   "outputs": [
    {
     "data": {
      "text/plain": [
       "'The AI bootcamp is designed for students aged 14-18 who are currently enrolled or have recently completed O/A Levels, Metric, or FSc. The bootcamp does not require any prior coding or AI experience, just basic computer literacy. It takes place in person at NUST H-12 Campus, Islamabad, from June 20th, and runs for two months with classes on Friday to Sunday from 4:00 PM to 7:00 PM. The bootcamp aims to equip students with in-demand AI skills, help them launch international freelancing careers, and facilitate admissions abroad, while also offering sessions on soft skills, career coaching, and industry visits. Upon completion, students receive a verified certificate to validate their skills.'"
      ]
     },
     "execution_count": 29,
     "metadata": {},
     "output_type": "execute_result"
    }
   ],
   "source": [
    "## Get the response form the LLM\n",
    "response=retrieval_chain.invoke({\"input\":\"Who is eligible to enroll in the AI Bootcamp offered by atomcamp and NUST?\"})\n",
    "response['answer']"
   ]
  },
  {
   "cell_type": "code",
   "execution_count": 30,
   "metadata": {},
   "outputs": [
    {
     "data": {
      "text/plain": [
       "{'input': 'Who is eligible to enroll in the AI Bootcamp offered by atomcamp and NUST?',\n",
       " 'context': [Document(id='450e1d7b-3f18-4797-9766-6efced5384f9', metadata={'source': 'https://www.atomcamp.com/ai-for-o-a-level/', 'title': 'AI for O/A Level | atomcamp', 'language': 'en-US'}, page_content='14-18 Years of Age (Male/Female)\\n\\n\\n\\n \\nStudents currently enrolled or have recently done O/A Levels or Metric/FSc\\n\\n\\n\\n \\nBasic computer literacy (no coding/AI experience required)\\n\\n\\n\\n\\n\\n\\n\\n\\n\\n\\n\\n\\n\\n\\n\\n\\n\\n\\natomcamp & NUST have jointly launched AI bootcamp for Islamabad’s youth to train them in the most in-demand AI skills.This bootcamp will facilitate students in launching their international freelancing careers, getting admissions abroad, and developing a sound technological foundation for any career.\\xa0Additionally, we will arrange extra curricular activities on-campus, sessions on soft skills, career-coaching, and industry visits. \\n\\n\\n\\n\\n\\n\\n\\nWhy should you enroll in this bootcamp?'),\n",
       "  Document(id='fd697a56-4691-46e7-91c8-ffe2589d6bbc', metadata={'source': 'https://www.atomcamp.com/ai-for-o-a-level/', 'title': 'AI for O/A Level | atomcamp', 'language': 'en-US'}, page_content='Furqan AdeelBootcamp Graduate \\n\\n\\n\\n\\n\\n\\n\\t\\t\\t\\t\\t\\t\"I joined Atomcamp’s O-/A-Level AI Bootcamp and had an amazing learning experience! We covered Excel, Power BI, Python, and even got a beginner’s look at machine learning. The hands-on projects and supportive teachers made it fun and motivating. I gained practical skills and confidence working with data and AI. I highly recommend this bootcamp to anyone wanting a great introduction to AI and tech.\"\\t\\t\\t\\t\\t\\n\\n\\n\\n\\n\\nRohan RizwanBootcamp Graduate \\n\\n\\n\\n\\n\\n\\n\\n\\n\\n\\n\\n\\n\\n\\n\\n\\n\\n\\nWe are excited to announce that our bootcamp will take place at NUST, H-12 Campus, Islamabad. \\n\\n\\n\\n\\n\\n\\n\\n\\n\\n\\n\\n\\n\\n\\n\\n\\n\\n\\n\\n\\n\\n\\n\\nWe train Professionals from top organizations across Industries. \\n\\n\\n\\n\\n\\n\\n\\n\\n\\n\\n\\n\\n\\n\\n\\n\\n\\n\\n\\n\\n\\n\\n\\n \\n\\n\\n\\n\\n\\n\\n\\n \\n\\n\\n\\n\\n\\n\\n\\n \\n\\n\\n\\n\\n\\n\\n\\n \\n\\n\\n\\n\\n\\n\\n\\n \\n\\n\\n\\n\\n\\n\\n\\n \\n\\n\\n\\n\\n\\n\\n\\n \\n\\n\\n\\n\\n\\n\\n\\n \\n\\n\\n\\n\\n\\n\\n\\n\\n\\n\\n\\n\\n\\n\\n\\n\\n\\n\\n\\n\\n\\n\\n \\nGet a verified certificate to prove your skills.\\n\\n\\n\\n\\n\\n\\nEarn a Verified Certificate of Completion'),\n",
       "  Document(id='742c3bd4-d14d-4e04-b5dc-bd17c39990ce', metadata={'source': 'https://www.atomcamp.com/ai-for-o-a-level/', 'title': 'AI for O/A Level | atomcamp', 'language': 'en-US'}, page_content='AI for O/A Level | atomcamp\\n\\n\\n\\n\\n\\n\\n\\n\\n\\n\\n\\n\\n\\n\\n\\n\\n\\n\\n\\n\\n\\n\\n\\n\\n\\n\\n\\n\\n\\n\\n\\n\\n\\n\\n\\n\\n\\n\\n\\n\\n\\n\\n\\n\\n\\n\\n\\n\\n\\n\\n\\n\\n\\n\\n\\n\\n\\n\\n\\n\\n\\n\\n\\n\\n\\n\\n\\n\\n\\n\\n\\n\\n\\n\\n\\n\\n\\n\\n\\n\\n\\n\\n\\n\\n\\n\\n\\n\\n\\n\\n\\n\\n\\n\\n\\n\\n\\n\\n\\n\\n\\n\\n\\n\\n\\n\\n\\n\\n\\n\\n\\n\\n\\n\\n\\n\\n\\n\\n\\n\\n\\n\\n\\n\\n\\n\\n\\n\\n\\n\\n\\t\\tSkip to content\\n\\n\\natomcamp\\n\\n\\n\\n\\n\\n\\n\\n\\n \\n\\n\\n\\n\\n\\n\\n\\n\\n\\n\\nMenu\\n\\n \\n\\n\\nAbout Us\\nCourses\\nEvents\\nBlogs\\nSustainability Lab\\nCareers\\n\\n\\n\\n\\n\\n\\n\\n\\n\\n\\n\\n\\n\\n\\n\\n\\n\\n\\n\\n\\n\\n \\n\\n\\n\\n\\n\\n\\n\\n\\n\\n\\n\\n\\n\\n \\n\\n\\n\\n\\n\\n\\n\\n \\n\\n\\n\\n\\n\\n\\n\\n \\n\\n\\n\\n\\n\\n\\n\\n\\n\\n\\n\\nArtificial Intelligence Bootcamp for O/A Level \\n\\n\\n\\n\\n\\n\\n \\nIn-person, NUST H-12 Campus, Islamabad. \\n\\n\\n\\n \\n20th June\\n\\n\\n\\n \\n2 Months\\n\\n\\n\\n\\n\\n\\n\\n\\n\\n \\nFriday to Sunday 4:00 PM to 7:00 PM\\n\\n\\n\\n\\n\\n\\n\\n\\n\\n\\n\\n\\n\\nApply Now\\n\\n\\n\\n\\n\\n\\n\\n\\n\\n\\n\\n\\n\\n\\npricing plan\\n\\n\\n\\n\\n\\n\\n\\n\\n\\n\\n\\n\\n\\n\\n\\n\\n\\n\\n\\n\\n\\n\\n \\nEligibility criteria\\n\\n\\n\\n\\n\\n\\n\\n\\n\\n \\n14-18 Years of Age (Male/Female)\\n\\n\\n\\n \\nStudents currently enrolled or have recently done O/A Levels or Metric/FSc\\n\\n\\n\\n \\nBasic computer literacy (no coding/AI experience required)'),\n",
       "  Document(id='28e45a74-2efb-4a27-b101-d13c13827fbc', metadata={'source': 'https://www.atomcamp.com/ai-for-o-a-level/', 'title': 'AI for O/A Level | atomcamp', 'language': 'en-US'}, page_content='Mahnoor Salman\\t\\t\\t\\t\\n\\n\\n\\n\\n\\nLinkedin\\n\\n \\n\\n\\n\\n\\n\\n\\n\\n\\n\\n\\n\\n\\n\\n\\n\\n\\n\\n\\n\\n\\n\\n\\n\\n\\t\\t\\t\\t\\t\\tKibria Ahmad\\t\\t\\t\\t\\n\\n\\n\\n\\n\\nLinkedin\\n\\n \\n\\n\\n\\n\\n\\n\\n\\n\\n\\n\\n\\n\\n\\n\\n\\n\\n\\n\\n\\n\\n\\n\\n\\n\\t\\t\\t\\t\\t\\tMahreen Ahmad\\t\\t\\t\\t\\n\\n\\n\\n\\n\\nLinkedin\\n\\n \\n\\n\\n\\n\\n\\n\\n\\n\\n\\n\\n\\n\\n\\n\\n\\n\\n\\n\\n\\n\\n\\n\\n\\n\\n\\n\\n\\n\\nStart your AI journey—register now! \\n\\n\\n\\n\\n\\n\\n\\n\\n\\n\\n\\n\\n\\n\\n\\n\\n\\n\\n\\n\\n\\n \\n\\n\\n \\n\\n\\n\\n\\n\\n\\n \\n\\n\\n\\natomcamp is a continuous learning platform  unlocking opportunities with Data Science. \\n\\n\\n\\nFor general inquiries:admissions@atomcamp.com \\n\\n\\n\\n \\n\\n\\n\\n\\n\\n\\n\\n\\n\\n\\n\\n\\n\\n\\n\\n\\n\\n\\n\\n\\n\\n\\n\\n\\n\\n\\n \\n\\n\\n\\n\\n\\n\\n\\n\\n\\n\\n\\n\\nHome\\nAbout\\nCourse\\nPublications\\nAI Solutions\\nBlogs\\n \\n\\nHome\\nAbout\\nCourse\\nPublications\\nAI Solutions\\nBlogs\\n \\n\\n\\n\\n\\n\\n\\n\\n\\n\\n\\n\\n\\nDon’t miss our future updates! Get Subscribed Today! \\n\\n\\n\\n\\n\\n\\n\\n\\n\\n\\n\\n\\n\\n\\n\\n\\n\\n\\n\\n\\n\\n\\n\\n\\n\\n\\n\\n\\n\\n\\n\\n\\n\\n \\nFor Admissions: +92-302-2278371\\n\\n\\n\\n \\nFor Events & Partnerships: fizza@atomcamp.com\\n\\n\\n\\n \\n15-E Rehmat Center, G-6/2, Blue Area, Islamabad\\n\\n\\n\\n\\n\\n\\n\\n\\n\\n\\n\\nTerms and Conditions\\nRefund and Returns Policy\\nPrivacy Policy\\n \\n\\nTerms and Conditions\\nRefund and Returns Policy\\nPrivacy Policy\\n \\n\\n\\n\\n\\n\\n\\n\\n\\n\\n\\n\\n \\n\\n\\n\\n\\n Scroll to Top')],\n",
       " 'answer': 'The AI bootcamp is designed for students aged 14-18 who are currently enrolled or have recently completed O/A Levels, Metric, or FSc. The bootcamp does not require any prior coding or AI experience, just basic computer literacy. It takes place in person at NUST H-12 Campus, Islamabad, from June 20th, and runs for two months with classes on Friday to Sunday from 4:00 PM to 7:00 PM. The bootcamp aims to equip students with in-demand AI skills, help them launch international freelancing careers, and facilitate admissions abroad, while also offering sessions on soft skills, career coaching, and industry visits. Upon completion, students receive a verified certificate to validate their skills.'}"
      ]
     },
     "execution_count": 30,
     "metadata": {},
     "output_type": "execute_result"
    }
   ],
   "source": [
    "\n",
    "response"
   ]
  },
  {
   "cell_type": "code",
   "execution_count": 31,
   "metadata": {},
   "outputs": [
    {
     "data": {
      "text/plain": [
       "[Document(id='450e1d7b-3f18-4797-9766-6efced5384f9', metadata={'source': 'https://www.atomcamp.com/ai-for-o-a-level/', 'title': 'AI for O/A Level | atomcamp', 'language': 'en-US'}, page_content='14-18 Years of Age (Male/Female)\\n\\n\\n\\n \\nStudents currently enrolled or have recently done O/A Levels or Metric/FSc\\n\\n\\n\\n \\nBasic computer literacy (no coding/AI experience required)\\n\\n\\n\\n\\n\\n\\n\\n\\n\\n\\n\\n\\n\\n\\n\\n\\n\\n\\natomcamp & NUST have jointly launched AI bootcamp for Islamabad’s youth to train them in the most in-demand AI skills.This bootcamp will facilitate students in launching their international freelancing careers, getting admissions abroad, and developing a sound technological foundation for any career.\\xa0Additionally, we will arrange extra curricular activities on-campus, sessions on soft skills, career-coaching, and industry visits. \\n\\n\\n\\n\\n\\n\\n\\nWhy should you enroll in this bootcamp?'),\n",
       " Document(id='fd697a56-4691-46e7-91c8-ffe2589d6bbc', metadata={'source': 'https://www.atomcamp.com/ai-for-o-a-level/', 'title': 'AI for O/A Level | atomcamp', 'language': 'en-US'}, page_content='Furqan AdeelBootcamp Graduate \\n\\n\\n\\n\\n\\n\\n\\t\\t\\t\\t\\t\\t\"I joined Atomcamp’s O-/A-Level AI Bootcamp and had an amazing learning experience! We covered Excel, Power BI, Python, and even got a beginner’s look at machine learning. The hands-on projects and supportive teachers made it fun and motivating. I gained practical skills and confidence working with data and AI. I highly recommend this bootcamp to anyone wanting a great introduction to AI and tech.\"\\t\\t\\t\\t\\t\\n\\n\\n\\n\\n\\nRohan RizwanBootcamp Graduate \\n\\n\\n\\n\\n\\n\\n\\n\\n\\n\\n\\n\\n\\n\\n\\n\\n\\n\\nWe are excited to announce that our bootcamp will take place at NUST, H-12 Campus, Islamabad. \\n\\n\\n\\n\\n\\n\\n\\n\\n\\n\\n\\n\\n\\n\\n\\n\\n\\n\\n\\n\\n\\n\\n\\nWe train Professionals from top organizations across Industries. \\n\\n\\n\\n\\n\\n\\n\\n\\n\\n\\n\\n\\n\\n\\n\\n\\n\\n\\n\\n\\n\\n\\n\\n \\n\\n\\n\\n\\n\\n\\n\\n \\n\\n\\n\\n\\n\\n\\n\\n \\n\\n\\n\\n\\n\\n\\n\\n \\n\\n\\n\\n\\n\\n\\n\\n \\n\\n\\n\\n\\n\\n\\n\\n \\n\\n\\n\\n\\n\\n\\n\\n \\n\\n\\n\\n\\n\\n\\n\\n \\n\\n\\n\\n\\n\\n\\n\\n\\n\\n\\n\\n\\n\\n\\n\\n\\n\\n\\n\\n\\n\\n\\n \\nGet a verified certificate to prove your skills.\\n\\n\\n\\n\\n\\n\\nEarn a Verified Certificate of Completion'),\n",
       " Document(id='742c3bd4-d14d-4e04-b5dc-bd17c39990ce', metadata={'source': 'https://www.atomcamp.com/ai-for-o-a-level/', 'title': 'AI for O/A Level | atomcamp', 'language': 'en-US'}, page_content='AI for O/A Level | atomcamp\\n\\n\\n\\n\\n\\n\\n\\n\\n\\n\\n\\n\\n\\n\\n\\n\\n\\n\\n\\n\\n\\n\\n\\n\\n\\n\\n\\n\\n\\n\\n\\n\\n\\n\\n\\n\\n\\n\\n\\n\\n\\n\\n\\n\\n\\n\\n\\n\\n\\n\\n\\n\\n\\n\\n\\n\\n\\n\\n\\n\\n\\n\\n\\n\\n\\n\\n\\n\\n\\n\\n\\n\\n\\n\\n\\n\\n\\n\\n\\n\\n\\n\\n\\n\\n\\n\\n\\n\\n\\n\\n\\n\\n\\n\\n\\n\\n\\n\\n\\n\\n\\n\\n\\n\\n\\n\\n\\n\\n\\n\\n\\n\\n\\n\\n\\n\\n\\n\\n\\n\\n\\n\\n\\n\\n\\n\\n\\n\\n\\n\\n\\t\\tSkip to content\\n\\n\\natomcamp\\n\\n\\n\\n\\n\\n\\n\\n\\n \\n\\n\\n\\n\\n\\n\\n\\n\\n\\n\\nMenu\\n\\n \\n\\n\\nAbout Us\\nCourses\\nEvents\\nBlogs\\nSustainability Lab\\nCareers\\n\\n\\n\\n\\n\\n\\n\\n\\n\\n\\n\\n\\n\\n\\n\\n\\n\\n\\n\\n\\n\\n \\n\\n\\n\\n\\n\\n\\n\\n\\n\\n\\n\\n\\n\\n \\n\\n\\n\\n\\n\\n\\n\\n \\n\\n\\n\\n\\n\\n\\n\\n \\n\\n\\n\\n\\n\\n\\n\\n\\n\\n\\n\\nArtificial Intelligence Bootcamp for O/A Level \\n\\n\\n\\n\\n\\n\\n \\nIn-person, NUST H-12 Campus, Islamabad. \\n\\n\\n\\n \\n20th June\\n\\n\\n\\n \\n2 Months\\n\\n\\n\\n\\n\\n\\n\\n\\n\\n \\nFriday to Sunday 4:00 PM to 7:00 PM\\n\\n\\n\\n\\n\\n\\n\\n\\n\\n\\n\\n\\n\\nApply Now\\n\\n\\n\\n\\n\\n\\n\\n\\n\\n\\n\\n\\n\\n\\npricing plan\\n\\n\\n\\n\\n\\n\\n\\n\\n\\n\\n\\n\\n\\n\\n\\n\\n\\n\\n\\n\\n\\n\\n \\nEligibility criteria\\n\\n\\n\\n\\n\\n\\n\\n\\n\\n \\n14-18 Years of Age (Male/Female)\\n\\n\\n\\n \\nStudents currently enrolled or have recently done O/A Levels or Metric/FSc\\n\\n\\n\\n \\nBasic computer literacy (no coding/AI experience required)'),\n",
       " Document(id='28e45a74-2efb-4a27-b101-d13c13827fbc', metadata={'source': 'https://www.atomcamp.com/ai-for-o-a-level/', 'title': 'AI for O/A Level | atomcamp', 'language': 'en-US'}, page_content='Mahnoor Salman\\t\\t\\t\\t\\n\\n\\n\\n\\n\\nLinkedin\\n\\n \\n\\n\\n\\n\\n\\n\\n\\n\\n\\n\\n\\n\\n\\n\\n\\n\\n\\n\\n\\n\\n\\n\\n\\n\\t\\t\\t\\t\\t\\tKibria Ahmad\\t\\t\\t\\t\\n\\n\\n\\n\\n\\nLinkedin\\n\\n \\n\\n\\n\\n\\n\\n\\n\\n\\n\\n\\n\\n\\n\\n\\n\\n\\n\\n\\n\\n\\n\\n\\n\\n\\t\\t\\t\\t\\t\\tMahreen Ahmad\\t\\t\\t\\t\\n\\n\\n\\n\\n\\nLinkedin\\n\\n \\n\\n\\n\\n\\n\\n\\n\\n\\n\\n\\n\\n\\n\\n\\n\\n\\n\\n\\n\\n\\n\\n\\n\\n\\n\\n\\n\\n\\nStart your AI journey—register now! \\n\\n\\n\\n\\n\\n\\n\\n\\n\\n\\n\\n\\n\\n\\n\\n\\n\\n\\n\\n\\n\\n \\n\\n\\n \\n\\n\\n\\n\\n\\n\\n \\n\\n\\n\\natomcamp is a continuous learning platform  unlocking opportunities with Data Science. \\n\\n\\n\\nFor general inquiries:admissions@atomcamp.com \\n\\n\\n\\n \\n\\n\\n\\n\\n\\n\\n\\n\\n\\n\\n\\n\\n\\n\\n\\n\\n\\n\\n\\n\\n\\n\\n\\n\\n\\n\\n \\n\\n\\n\\n\\n\\n\\n\\n\\n\\n\\n\\n\\nHome\\nAbout\\nCourse\\nPublications\\nAI Solutions\\nBlogs\\n \\n\\nHome\\nAbout\\nCourse\\nPublications\\nAI Solutions\\nBlogs\\n \\n\\n\\n\\n\\n\\n\\n\\n\\n\\n\\n\\n\\nDon’t miss our future updates! Get Subscribed Today! \\n\\n\\n\\n\\n\\n\\n\\n\\n\\n\\n\\n\\n\\n\\n\\n\\n\\n\\n\\n\\n\\n\\n\\n\\n\\n\\n\\n\\n\\n\\n\\n\\n\\n \\nFor Admissions: +92-302-2278371\\n\\n\\n\\n \\nFor Events & Partnerships: fizza@atomcamp.com\\n\\n\\n\\n \\n15-E Rehmat Center, G-6/2, Blue Area, Islamabad\\n\\n\\n\\n\\n\\n\\n\\n\\n\\n\\n\\nTerms and Conditions\\nRefund and Returns Policy\\nPrivacy Policy\\n \\n\\nTerms and Conditions\\nRefund and Returns Policy\\nPrivacy Policy\\n \\n\\n\\n\\n\\n\\n\\n\\n\\n\\n\\n\\n \\n\\n\\n\\n\\n Scroll to Top')]"
      ]
     },
     "execution_count": 31,
     "metadata": {},
     "output_type": "execute_result"
    }
   ],
   "source": [
    "response['context']"
   ]
  }
 ],
 "metadata": {
  "kernelspec": {
   "display_name": ".venv",
   "language": "python",
   "name": "python3"
  },
  "language_info": {
   "codemirror_mode": {
    "name": "ipython",
    "version": 3
   },
   "file_extension": ".py",
   "mimetype": "text/x-python",
   "name": "python",
   "nbconvert_exporter": "python",
   "pygments_lexer": "ipython3",
   "version": "3.12.7"
  }
 },
 "nbformat": 4,
 "nbformat_minor": 2
}
